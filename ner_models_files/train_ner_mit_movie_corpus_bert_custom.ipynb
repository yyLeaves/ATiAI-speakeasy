{
  "cells": [
    {
      "cell_type": "code",
      "execution_count": 1,
      "metadata": {
        "vscode": {
          "languageId": "plaintext"
        },
        "colab": {
          "base_uri": "https://localhost:8080/"
        },
        "id": "ZwKXhvWlqOss",
        "outputId": "0a320199-a8cb-407b-8dba-5a2cda11f0ce"
      },
      "outputs": [
        {
          "output_type": "stream",
          "name": "stdout",
          "text": [
            "Requirement already satisfied: transformers in /usr/local/lib/python3.10/dist-packages (4.46.2)\n",
            "Requirement already satisfied: torch in /usr/local/lib/python3.10/dist-packages (2.5.1+cu121)\n",
            "Requirement already satisfied: filelock in /usr/local/lib/python3.10/dist-packages (from transformers) (3.16.1)\n",
            "Requirement already satisfied: huggingface-hub<1.0,>=0.23.2 in /usr/local/lib/python3.10/dist-packages (from transformers) (0.26.2)\n",
            "Requirement already satisfied: numpy>=1.17 in /usr/local/lib/python3.10/dist-packages (from transformers) (1.26.4)\n",
            "Requirement already satisfied: packaging>=20.0 in /usr/local/lib/python3.10/dist-packages (from transformers) (24.2)\n",
            "Requirement already satisfied: pyyaml>=5.1 in /usr/local/lib/python3.10/dist-packages (from transformers) (6.0.2)\n",
            "Requirement already satisfied: regex!=2019.12.17 in /usr/local/lib/python3.10/dist-packages (from transformers) (2024.9.11)\n",
            "Requirement already satisfied: requests in /usr/local/lib/python3.10/dist-packages (from transformers) (2.32.3)\n",
            "Requirement already satisfied: safetensors>=0.4.1 in /usr/local/lib/python3.10/dist-packages (from transformers) (0.4.5)\n",
            "Requirement already satisfied: tokenizers<0.21,>=0.20 in /usr/local/lib/python3.10/dist-packages (from transformers) (0.20.3)\n",
            "Requirement already satisfied: tqdm>=4.27 in /usr/local/lib/python3.10/dist-packages (from transformers) (4.66.6)\n",
            "Requirement already satisfied: typing-extensions>=4.8.0 in /usr/local/lib/python3.10/dist-packages (from torch) (4.12.2)\n",
            "Requirement already satisfied: networkx in /usr/local/lib/python3.10/dist-packages (from torch) (3.4.2)\n",
            "Requirement already satisfied: jinja2 in /usr/local/lib/python3.10/dist-packages (from torch) (3.1.4)\n",
            "Requirement already satisfied: fsspec in /usr/local/lib/python3.10/dist-packages (from torch) (2024.10.0)\n",
            "Requirement already satisfied: sympy==1.13.1 in /usr/local/lib/python3.10/dist-packages (from torch) (1.13.1)\n",
            "Requirement already satisfied: mpmath<1.4,>=1.1.0 in /usr/local/lib/python3.10/dist-packages (from sympy==1.13.1->torch) (1.3.0)\n",
            "Requirement already satisfied: MarkupSafe>=2.0 in /usr/local/lib/python3.10/dist-packages (from jinja2->torch) (3.0.2)\n",
            "Requirement already satisfied: charset-normalizer<4,>=2 in /usr/local/lib/python3.10/dist-packages (from requests->transformers) (3.4.0)\n",
            "Requirement already satisfied: idna<4,>=2.5 in /usr/local/lib/python3.10/dist-packages (from requests->transformers) (3.10)\n",
            "Requirement already satisfied: urllib3<3,>=1.21.1 in /usr/local/lib/python3.10/dist-packages (from requests->transformers) (2.2.3)\n",
            "Requirement already satisfied: certifi>=2017.4.17 in /usr/local/lib/python3.10/dist-packages (from requests->transformers) (2024.8.30)\n"
          ]
        }
      ],
      "source": [
        "# -*- coding: utf-8 -*-\n",
        "\"\"\"Fine-tuning BERT for NER (Named Entity Recognition)\"\"\"\n",
        "\n",
        "# Install necessary libraries for Colab\n",
        "!pip install transformers torch\n",
        "\n",
        "# Import libraries\n",
        "import csv\n",
        "import os\n",
        "import numpy as np\n",
        "import pandas as pd\n",
        "import torch\n",
        "import random\n",
        "import matplotlib.pyplot as plt\n",
        "from torch.utils.data import TensorDataset, random_split, DataLoader, RandomSampler, SequentialSampler\n",
        "from transformers import BertTokenizer, BertForTokenClassification, AdamW, get_linear_schedule_with_warmup\n",
        "from sklearn.metrics import classification_report"
      ]
    },
    {
      "cell_type": "code",
      "source": [
        "# Download the MIT Movie Corpus files\n",
        "!wget -q https://sls.csail.mit.edu/downloads/movie/engtrain.bio -O engtrain.bio\n",
        "!wget -q https://sls.csail.mit.edu/downloads/movie/engtest.bio -O engtest.bio\n",
        "\n",
        "print(\"Downloaded dataset files.\")"
      ],
      "metadata": {
        "colab": {
          "base_uri": "https://localhost:8080/"
        },
        "id": "jfFlRbIXqTCp",
        "outputId": "8b7d9cd3-00ef-4a36-9021-490bec028813"
      },
      "execution_count": 2,
      "outputs": [
        {
          "output_type": "stream",
          "name": "stdout",
          "text": [
            "Downloaded dataset files.\n"
          ]
        }
      ]
    },
    {
      "cell_type": "code",
      "source": [
        "# Check if GPU is available\n",
        "device = torch.device(\"cuda\" if torch.cuda.is_available() else \"cpu\")\n",
        "print(f\"Using device: {device}\")"
      ],
      "metadata": {
        "colab": {
          "base_uri": "https://localhost:8080/"
        },
        "id": "6OfU9OuiqWnW",
        "outputId": "53fd24f2-b2c9-40b3-dc06-cdeef40a79a0"
      },
      "execution_count": 3,
      "outputs": [
        {
          "output_type": "stream",
          "name": "stdout",
          "text": [
            "Using device: cuda\n"
          ]
        }
      ]
    },
    {
      "cell_type": "code",
      "source": [
        "# Helper function to load and process data\n",
        "def get_sentences_and_labels(file_path):\n",
        "    sentences = []  # Store tokenized words lists for each sentence\n",
        "    labels = []     # Store labels for each word in a sentence\n",
        "    unique_labels = set()  # Track unique labels\n",
        "\n",
        "    # Temporary storage for the current sentence\n",
        "    tokens = []\n",
        "    token_labels = []\n",
        "\n",
        "    with open(file_path, newline='', encoding='utf-8') as file:\n",
        "        line_reader = csv.reader(file, delimiter='\\t')\n",
        "\n",
        "        for line in line_reader:\n",
        "            # Ignore empty or improperly formatted lines\n",
        "            if not line or len(line) < 2:\n",
        "                if tokens:  # End of a sentence\n",
        "                    sentences.append(tokens)\n",
        "                    labels.append(token_labels)\n",
        "                    tokens = []\n",
        "                    token_labels = []\n",
        "                continue\n",
        "\n",
        "            # Extract token and label\n",
        "            token, label = line[1], line[0]\n",
        "            tokens.append(token)\n",
        "            token_labels.append(label)\n",
        "            unique_labels.add(label)\n",
        "\n",
        "    # Append the last sentence if not empty\n",
        "    if tokens:\n",
        "        sentences.append(tokens)\n",
        "        labels.append(token_labels)\n",
        "\n",
        "    return sentences, labels, unique_labels\n",
        "\n",
        "# Paths to the downloaded dataset files\n",
        "train_file_path = 'engtrain.bio'\n",
        "test_file_path = 'engtest.bio'\n",
        "\n",
        "# Extract sentences, labels, and unique labels for train and test datasets\n",
        "train_sentences, train_labels, unique_labels_train = get_sentences_and_labels(train_file_path)\n",
        "test_sentences, test_labels, unique_labels_test = get_sentences_and_labels(test_file_path)\n",
        "\n",
        "# Combine unique labels from train and test\n",
        "unique_labels = unique_labels_train.union(unique_labels_test)\n",
        "\n",
        "# Print dataset details\n",
        "print(f\"Number of sentences in training data: {len(train_sentences)}\")\n",
        "print(f\"Number of sentences in testing data: {len(test_sentences)}\")\n",
        "print(f\"Number of unique labels: {len(unique_labels)}\")\n",
        "\n",
        "# Create a label-to-ID mapping\n",
        "label_map = {label: idx for idx, label in enumerate(sorted(unique_labels))}\n",
        "print(f\"Label Map: {label_map}\")"
      ],
      "metadata": {
        "colab": {
          "base_uri": "https://localhost:8080/"
        },
        "id": "uLJwXXS9qbNT",
        "outputId": "e1279ebe-9c2d-418f-b685-d7a458dc1b48"
      },
      "execution_count": 4,
      "outputs": [
        {
          "output_type": "stream",
          "name": "stdout",
          "text": [
            "Number of sentences in training data: 9775\n",
            "Number of sentences in testing data: 2443\n",
            "Number of unique labels: 25\n",
            "Label Map: {'B-ACTOR': 0, 'B-CHARACTER': 1, 'B-DIRECTOR': 2, 'B-GENRE': 3, 'B-PLOT': 4, 'B-RATING': 5, 'B-RATINGS_AVERAGE': 6, 'B-REVIEW': 7, 'B-SONG': 8, 'B-TITLE': 9, 'B-TRAILER': 10, 'B-YEAR': 11, 'I-ACTOR': 12, 'I-CHARACTER': 13, 'I-DIRECTOR': 14, 'I-GENRE': 15, 'I-PLOT': 16, 'I-RATING': 17, 'I-RATINGS_AVERAGE': 18, 'I-REVIEW': 19, 'I-SONG': 20, 'I-TITLE': 21, 'I-TRAILER': 22, 'I-YEAR': 23, 'O': 24}\n"
          ]
        }
      ]
    },
    {
      "cell_type": "code",
      "source": [
        "# Load tokenizer\n",
        "tokenizer = BertTokenizer.from_pretrained('bert-base-cased')\n",
        "\n",
        "# Prepare input IDs and attention masks\n",
        "def get_input_ids_and_attention_masks(sentences):\n",
        "    input_ids = []\n",
        "    attention_masks = []\n",
        "    for sentence in sentences:\n",
        "        joined_sentence = ' '.join(sentence)\n",
        "        encoded = tokenizer.encode_plus(\n",
        "            joined_sentence,\n",
        "            add_special_tokens=True,\n",
        "            max_length=59,\n",
        "            truncation=True,\n",
        "            padding='max_length',\n",
        "            return_attention_mask=True,\n",
        "            return_tensors='pt'\n",
        "        )\n",
        "        input_ids.append(encoded['input_ids'][0])\n",
        "        attention_masks.append(encoded['attention_mask'][0])\n",
        "    return input_ids, attention_masks\n",
        "\n",
        "# Tokenize and encode\n",
        "train_input_ids, train_attention_masks = get_input_ids_and_attention_masks(train_sentences)\n",
        "test_input_ids, test_attention_masks = get_input_ids_and_attention_masks(test_sentences)"
      ],
      "metadata": {
        "colab": {
          "base_uri": "https://localhost:8080/"
        },
        "id": "eNrOQcHsqioc",
        "outputId": "540fc524-1cfd-4d5f-b0b7-7cc903a8ee07"
      },
      "execution_count": 5,
      "outputs": [
        {
          "output_type": "stream",
          "name": "stderr",
          "text": [
            "/usr/local/lib/python3.10/dist-packages/huggingface_hub/utils/_auth.py:94: UserWarning: \n",
            "The secret `HF_TOKEN` does not exist in your Colab secrets.\n",
            "To authenticate with the Hugging Face Hub, create a token in your settings tab (https://huggingface.co/settings/tokens), set it as secret in your Google Colab and restart your session.\n",
            "You will be able to reuse this secret in all of your notebooks.\n",
            "Please note that authentication is recommended but still optional to access public models or datasets.\n",
            "  warnings.warn(\n"
          ]
        }
      ]
    },
    {
      "cell_type": "code",
      "source": [
        "\n",
        "# Pad labels\n",
        "def pad_labels(input_ids, labels, label_map):\n",
        "    padded_labels = []\n",
        "    for sent, orig_labels in zip(input_ids, labels):\n",
        "        curr_labels = []\n",
        "        label_idx = 0\n",
        "        for token_id in sent:\n",
        "            token_id = token_id.item()\n",
        "            if token_id in {tokenizer.pad_token_id, tokenizer.cls_token_id, tokenizer.sep_token_id}:\n",
        "                curr_labels.append(-100)\n",
        "            elif tokenizer.decode([token_id]).startswith(\"##\"):\n",
        "                curr_labels.append(-100)\n",
        "            else:\n",
        "                curr_labels.append(label_map[orig_labels[label_idx]])\n",
        "                label_idx += 1\n",
        "        assert len(sent) == len(curr_labels)\n",
        "        padded_labels.append(curr_labels)\n",
        "    return padded_labels\n",
        "\n",
        "# Prepare labels\n",
        "train_padded_labels = pad_labels(train_input_ids, train_labels, label_map)\n",
        "test_padded_labels = pad_labels(test_input_ids, test_labels, label_map)"
      ],
      "metadata": {
        "id": "MI_gXkyVqoAH"
      },
      "execution_count": 6,
      "outputs": []
    },
    {
      "cell_type": "code",
      "source": [
        "# Convert to tensors\n",
        "train_input_ids_tensor = torch.stack(train_input_ids)\n",
        "train_attention_masks_tensor = torch.stack(train_attention_masks)\n",
        "train_padded_labels_tensor = torch.tensor(train_padded_labels)\n",
        "\n",
        "test_input_ids_tensor = torch.stack(test_input_ids)\n",
        "test_attention_masks_tensor = torch.stack(test_attention_masks)\n",
        "test_padded_labels_tensor = torch.tensor(test_padded_labels)\n",
        "\n",
        "# Split test set into validation and final test\n",
        "val_size = int(0.2 * len(test_input_ids_tensor))\n",
        "test_size = len(test_input_ids_tensor) - val_size\n",
        "\n",
        "val_indices, final_test_indices = random_split(range(len(test_input_ids_tensor)), [val_size, test_size])\n",
        "\n",
        "val_input_ids = test_input_ids_tensor[val_indices.indices]\n",
        "val_attention_masks = test_attention_masks_tensor[val_indices.indices]\n",
        "val_labels = test_padded_labels_tensor[val_indices.indices]\n",
        "\n",
        "final_test_input_ids = test_input_ids_tensor[final_test_indices.indices]\n",
        "final_test_attention_masks = test_attention_masks_tensor[final_test_indices.indices]\n",
        "final_test_labels = test_padded_labels_tensor[final_test_indices.indices]"
      ],
      "metadata": {
        "id": "qjsEoPjHDNBD"
      },
      "execution_count": 7,
      "outputs": []
    },
    {
      "cell_type": "code",
      "source": [
        "batch_size = 32\n",
        "\n",
        "# Define training dataset and DataLoader\n",
        "train_dataset = TensorDataset(train_input_ids_tensor, train_attention_masks_tensor, train_padded_labels_tensor)\n",
        "train_dataloader = DataLoader(train_dataset, sampler=RandomSampler(train_dataset), batch_size=batch_size)\n",
        "\n",
        "# Validation DataLoader from the validation subset (20% of test data)\n",
        "val_dataset = TensorDataset(val_input_ids, val_attention_masks, val_labels)\n",
        "val_dataloader = DataLoader(val_dataset, sampler=SequentialSampler(val_dataset), batch_size=batch_size)\n",
        "\n",
        "# Final test dataset and DataLoader\n",
        "final_test_dataset = TensorDataset(final_test_input_ids, final_test_attention_masks, final_test_labels)\n",
        "final_test_dataloader = DataLoader(final_test_dataset, sampler=SequentialSampler(final_test_dataset), batch_size=batch_size)"
      ],
      "metadata": {
        "id": "5w4hWhbUqq2Z"
      },
      "execution_count": 8,
      "outputs": []
    },
    {
      "cell_type": "code",
      "source": [
        "# Initialize the BERT model for token classification\n",
        "model = BertForTokenClassification.from_pretrained(\n",
        "    \"bert-base-cased\",\n",
        "    num_labels=len(label_map) + 1  # Account for the padding label (-100)\n",
        ")\n",
        "model.to(device)\n",
        "\n",
        "epochs = 4\n",
        "\n",
        "# Optimizer and learning rate scheduler\n",
        "optimizer = AdamW(model.parameters(), lr=5e-5, eps=1e-8)  # Standard learning rate and epsilon values\n",
        "total_steps = len(train_dataloader) * epochs\n",
        "scheduler = get_linear_schedule_with_warmup(optimizer, num_warmup_steps=0, num_training_steps=total_steps)\n",
        "\n",
        "# Training loop\n",
        "seed_val = 42\n",
        "random.seed(seed_val)\n",
        "np.random.seed(seed_val)\n",
        "torch.manual_seed(seed_val)\n",
        "torch.cuda.manual_seed_all(seed_val)\n",
        "\n",
        "train_loss_values = []\n",
        "test_results_per_epoch = []  # To store test evaluation results per epoch\n",
        "\n",
        "for epoch in range(epochs):\n",
        "    print(f\"======== Epoch {epoch + 1} / {epochs} ========\")\n",
        "\n",
        "    # Training phase\n",
        "    print(\"Training...\")\n",
        "    model.train()\n",
        "    total_train_loss = 0\n",
        "    for batch in train_dataloader:\n",
        "        b_input_ids, b_input_mask, b_labels = [item.to(device) for item in batch]\n",
        "        model.zero_grad()\n",
        "        outputs = model(b_input_ids, attention_mask=b_input_mask, labels=b_labels)\n",
        "        loss = outputs.loss\n",
        "        total_train_loss += loss.item()\n",
        "        loss.backward()\n",
        "        torch.nn.utils.clip_grad_norm_(model.parameters(), 1.0)\n",
        "        optimizer.step()\n",
        "        scheduler.step()\n",
        "    avg_train_loss = total_train_loss / len(train_dataloader)\n",
        "    train_loss_values.append(avg_train_loss)\n",
        "    print(f\"  Training loss: {avg_train_loss:.2f}\")\n",
        "\n",
        "    # Test evaluation after each epoch\n",
        "    print(\"Evaluating on test set...\")\n",
        "    model.eval()\n",
        "    predictions, true_labels = [], []\n",
        "    with torch.no_grad():\n",
        "        for batch in final_test_dataloader:\n",
        "            b_input_ids, b_input_mask, b_labels = [item.to(device) for item in batch]\n",
        "            outputs = model(b_input_ids, attention_mask=b_input_mask)\n",
        "            logits = outputs.logits\n",
        "            preds = torch.argmax(logits, dim=2).cpu().numpy()\n",
        "            labels = b_labels.cpu().numpy()\n",
        "            for pred, label in zip(preds, labels):\n",
        "                predictions.append(pred[label != -100])\n",
        "                true_labels.append(label[label != -100])\n",
        "    # Flatten predictions and true labels\n",
        "    flat_preds = [item for sublist in predictions for item in sublist]\n",
        "    flat_true = [item for sublist in true_labels for item in sublist]\n",
        "\n",
        "    # Remove padding labels (-100) from `label_map`\n",
        "    label_names = [key for key, value in sorted(label_map.items(), key=lambda x: x[1]) if key != -100]\n",
        "\n",
        "    # Generate classification report for test set\n",
        "    report = classification_report(\n",
        "        flat_true,\n",
        "        flat_preds,\n",
        "        target_names=label_names[:len(set(flat_true))],  # Ensure matching size\n",
        "        output_dict=True\n",
        "    )\n",
        "\n",
        "    # Display report\n",
        "    print(f\"Test Results for Epoch {epoch + 1}:\")\n",
        "    print(classification_report(flat_true, flat_preds, target_names=label_names[:len(set(flat_true))]))\n",
        "\n",
        "    # Store results for later analysis\n",
        "    test_results_per_epoch.append(report)\n",
        "\n",
        "# Plot training loss\n",
        "plt.figure(figsize=(10, 5))\n",
        "plt.plot(range(1, epochs + 1), train_loss_values, label=\"Training Loss\")\n",
        "plt.xlabel(\"Epochs\")\n",
        "plt.ylabel(\"Loss\")\n",
        "plt.legend()\n",
        "plt.title(\"Training Loss\")\n",
        "plt.show()\n",
        "\n",
        "# Optional: Save the test results for all epochs\n",
        "import pandas as pd\n",
        "results_df = pd.DataFrame(test_results_per_epoch)\n",
        "results_df.to_csv(\"test_results_per_epoch.csv\", index=False)\n",
        "print(\"Test results saved to test_results_per_epoch.csv\")"
      ],
      "metadata": {
        "colab": {
          "base_uri": "https://localhost:8080/",
          "height": 1000
        },
        "id": "3PMOTpbqZhDs",
        "outputId": "9649dcb8-3cb2-42e2-bc07-77d5be302beb"
      },
      "execution_count": 9,
      "outputs": [
        {
          "output_type": "stream",
          "name": "stderr",
          "text": [
            "Some weights of BertForTokenClassification were not initialized from the model checkpoint at bert-base-cased and are newly initialized: ['classifier.bias', 'classifier.weight']\n",
            "You should probably TRAIN this model on a down-stream task to be able to use it for predictions and inference.\n",
            "/usr/local/lib/python3.10/dist-packages/transformers/optimization.py:591: FutureWarning: This implementation of AdamW is deprecated and will be removed in a future version. Use the PyTorch implementation torch.optim.AdamW instead, or set `no_deprecation_warning=True` to disable this warning\n",
            "  warnings.warn(\n"
          ]
        },
        {
          "output_type": "stream",
          "name": "stdout",
          "text": [
            "======== Epoch 1 / 4 ========\n",
            "Training...\n",
            "  Training loss: 0.42\n",
            "Evaluating on test set...\n"
          ]
        },
        {
          "output_type": "stream",
          "name": "stderr",
          "text": [
            "/usr/local/lib/python3.10/dist-packages/sklearn/metrics/_classification.py:1531: UndefinedMetricWarning: Precision is ill-defined and being set to 0.0 in labels with no predicted samples. Use `zero_division` parameter to control this behavior.\n",
            "  _warn_prf(average, modifier, f\"{metric.capitalize()} is\", len(result))\n",
            "/usr/local/lib/python3.10/dist-packages/sklearn/metrics/_classification.py:1531: UndefinedMetricWarning: Precision is ill-defined and being set to 0.0 in labels with no predicted samples. Use `zero_division` parameter to control this behavior.\n",
            "  _warn_prf(average, modifier, f\"{metric.capitalize()} is\", len(result))\n",
            "/usr/local/lib/python3.10/dist-packages/sklearn/metrics/_classification.py:1531: UndefinedMetricWarning: Precision is ill-defined and being set to 0.0 in labels with no predicted samples. Use `zero_division` parameter to control this behavior.\n",
            "  _warn_prf(average, modifier, f\"{metric.capitalize()} is\", len(result))\n",
            "/usr/local/lib/python3.10/dist-packages/sklearn/metrics/_classification.py:1531: UndefinedMetricWarning: Precision is ill-defined and being set to 0.0 in labels with no predicted samples. Use `zero_division` parameter to control this behavior.\n",
            "  _warn_prf(average, modifier, f\"{metric.capitalize()} is\", len(result))\n",
            "/usr/local/lib/python3.10/dist-packages/sklearn/metrics/_classification.py:1531: UndefinedMetricWarning: Precision is ill-defined and being set to 0.0 in labels with no predicted samples. Use `zero_division` parameter to control this behavior.\n",
            "  _warn_prf(average, modifier, f\"{metric.capitalize()} is\", len(result))\n",
            "/usr/local/lib/python3.10/dist-packages/sklearn/metrics/_classification.py:1531: UndefinedMetricWarning: Precision is ill-defined and being set to 0.0 in labels with no predicted samples. Use `zero_division` parameter to control this behavior.\n",
            "  _warn_prf(average, modifier, f\"{metric.capitalize()} is\", len(result))\n"
          ]
        },
        {
          "output_type": "stream",
          "name": "stdout",
          "text": [
            "Test Results for Epoch 1:\n",
            "                   precision    recall  f1-score   support\n",
            "\n",
            "          B-ACTOR       0.92      0.91      0.92       652\n",
            "      B-CHARACTER       0.61      0.55      0.58        66\n",
            "       B-DIRECTOR       0.90      0.86      0.88       365\n",
            "          B-GENRE       0.90      0.97      0.94       906\n",
            "           B-PLOT       0.76      0.72      0.74       402\n",
            "         B-RATING       0.98      0.97      0.97       402\n",
            "B-RATINGS_AVERAGE       0.86      0.93      0.89       372\n",
            "         B-REVIEW       0.47      0.16      0.23        45\n",
            "           B-SONG       0.85      0.63      0.72        46\n",
            "          B-TITLE       0.84      0.90      0.87       438\n",
            "        B-TRAILER       0.76      0.83      0.79        23\n",
            "           B-YEAR       0.95      0.95      0.95       575\n",
            "          I-ACTOR       0.91      0.92      0.92       689\n",
            "      I-CHARACTER       0.53      0.45      0.49        64\n",
            "       I-DIRECTOR       0.91      0.86      0.89       392\n",
            "          I-GENRE       0.92      0.67      0.78       193\n",
            "           I-PLOT       0.86      0.64      0.73       404\n",
            "         I-RATING       0.94      0.89      0.92       179\n",
            "I-RATINGS_AVERAGE       0.80      0.95      0.87       344\n",
            "         I-REVIEW       0.00      0.00      0.00        40\n",
            "           I-SONG       0.88      0.75      0.81       101\n",
            "          I-TITLE       0.86      0.94      0.90       681\n",
            "        I-TRAILER       0.00      0.00      0.00         8\n",
            "           I-YEAR       0.97      0.97      0.97       478\n",
            "                O       0.97      0.98      0.97     11965\n",
            "\n",
            "         accuracy                           0.94     19830\n",
            "        macro avg       0.78      0.74      0.75     19830\n",
            "     weighted avg       0.93      0.94      0.93     19830\n",
            "\n",
            "======== Epoch 2 / 4 ========\n",
            "Training...\n",
            "  Training loss: 0.18\n",
            "Evaluating on test set...\n"
          ]
        },
        {
          "output_type": "stream",
          "name": "stderr",
          "text": [
            "/usr/local/lib/python3.10/dist-packages/sklearn/metrics/_classification.py:1531: UndefinedMetricWarning: Precision is ill-defined and being set to 0.0 in labels with no predicted samples. Use `zero_division` parameter to control this behavior.\n",
            "  _warn_prf(average, modifier, f\"{metric.capitalize()} is\", len(result))\n",
            "/usr/local/lib/python3.10/dist-packages/sklearn/metrics/_classification.py:1531: UndefinedMetricWarning: Precision is ill-defined and being set to 0.0 in labels with no predicted samples. Use `zero_division` parameter to control this behavior.\n",
            "  _warn_prf(average, modifier, f\"{metric.capitalize()} is\", len(result))\n",
            "/usr/local/lib/python3.10/dist-packages/sklearn/metrics/_classification.py:1531: UndefinedMetricWarning: Precision is ill-defined and being set to 0.0 in labels with no predicted samples. Use `zero_division` parameter to control this behavior.\n",
            "  _warn_prf(average, modifier, f\"{metric.capitalize()} is\", len(result))\n",
            "/usr/local/lib/python3.10/dist-packages/sklearn/metrics/_classification.py:1531: UndefinedMetricWarning: Precision is ill-defined and being set to 0.0 in labels with no predicted samples. Use `zero_division` parameter to control this behavior.\n",
            "  _warn_prf(average, modifier, f\"{metric.capitalize()} is\", len(result))\n",
            "/usr/local/lib/python3.10/dist-packages/sklearn/metrics/_classification.py:1531: UndefinedMetricWarning: Precision is ill-defined and being set to 0.0 in labels with no predicted samples. Use `zero_division` parameter to control this behavior.\n",
            "  _warn_prf(average, modifier, f\"{metric.capitalize()} is\", len(result))\n",
            "/usr/local/lib/python3.10/dist-packages/sklearn/metrics/_classification.py:1531: UndefinedMetricWarning: Precision is ill-defined and being set to 0.0 in labels with no predicted samples. Use `zero_division` parameter to control this behavior.\n",
            "  _warn_prf(average, modifier, f\"{metric.capitalize()} is\", len(result))\n"
          ]
        },
        {
          "output_type": "stream",
          "name": "stdout",
          "text": [
            "Test Results for Epoch 2:\n",
            "                   precision    recall  f1-score   support\n",
            "\n",
            "          B-ACTOR       0.94      0.89      0.91       652\n",
            "      B-CHARACTER       0.62      0.59      0.60        66\n",
            "       B-DIRECTOR       0.84      0.90      0.87       365\n",
            "          B-GENRE       0.93      0.97      0.95       906\n",
            "           B-PLOT       0.74      0.80      0.77       402\n",
            "         B-RATING       0.95      0.97      0.96       402\n",
            "B-RATINGS_AVERAGE       0.93      0.91      0.92       372\n",
            "         B-REVIEW       0.43      0.13      0.20        45\n",
            "           B-SONG       0.66      0.76      0.71        46\n",
            "          B-TITLE       0.88      0.90      0.89       438\n",
            "        B-TRAILER       0.77      0.87      0.82        23\n",
            "           B-YEAR       0.94      0.96      0.95       575\n",
            "          I-ACTOR       0.93      0.90      0.92       689\n",
            "      I-CHARACTER       0.60      0.44      0.50        64\n",
            "       I-DIRECTOR       0.85      0.90      0.87       392\n",
            "          I-GENRE       0.91      0.71      0.80       193\n",
            "           I-PLOT       0.84      0.65      0.73       404\n",
            "         I-RATING       0.94      0.91      0.92       179\n",
            "I-RATINGS_AVERAGE       0.89      0.91      0.90       344\n",
            "         I-REVIEW       0.50      0.05      0.09        40\n",
            "           I-SONG       0.85      0.79      0.82       101\n",
            "          I-TITLE       0.93      0.88      0.91       681\n",
            "        I-TRAILER       0.00      0.00      0.00         8\n",
            "           I-YEAR       0.96      0.97      0.97       478\n",
            "                O       0.96      0.98      0.97     11965\n",
            "\n",
            "         accuracy                           0.94     19830\n",
            "        macro avg       0.79      0.75      0.76     19830\n",
            "     weighted avg       0.94      0.94      0.94     19830\n",
            "\n",
            "======== Epoch 3 / 4 ========\n",
            "Training...\n",
            "  Training loss: 0.13\n",
            "Evaluating on test set...\n"
          ]
        },
        {
          "output_type": "stream",
          "name": "stderr",
          "text": [
            "/usr/local/lib/python3.10/dist-packages/sklearn/metrics/_classification.py:1531: UndefinedMetricWarning: Precision is ill-defined and being set to 0.0 in labels with no predicted samples. Use `zero_division` parameter to control this behavior.\n",
            "  _warn_prf(average, modifier, f\"{metric.capitalize()} is\", len(result))\n",
            "/usr/local/lib/python3.10/dist-packages/sklearn/metrics/_classification.py:1531: UndefinedMetricWarning: Precision is ill-defined and being set to 0.0 in labels with no predicted samples. Use `zero_division` parameter to control this behavior.\n",
            "  _warn_prf(average, modifier, f\"{metric.capitalize()} is\", len(result))\n",
            "/usr/local/lib/python3.10/dist-packages/sklearn/metrics/_classification.py:1531: UndefinedMetricWarning: Precision is ill-defined and being set to 0.0 in labels with no predicted samples. Use `zero_division` parameter to control this behavior.\n",
            "  _warn_prf(average, modifier, f\"{metric.capitalize()} is\", len(result))\n",
            "/usr/local/lib/python3.10/dist-packages/sklearn/metrics/_classification.py:1531: UndefinedMetricWarning: Precision is ill-defined and being set to 0.0 in labels with no predicted samples. Use `zero_division` parameter to control this behavior.\n",
            "  _warn_prf(average, modifier, f\"{metric.capitalize()} is\", len(result))\n",
            "/usr/local/lib/python3.10/dist-packages/sklearn/metrics/_classification.py:1531: UndefinedMetricWarning: Precision is ill-defined and being set to 0.0 in labels with no predicted samples. Use `zero_division` parameter to control this behavior.\n",
            "  _warn_prf(average, modifier, f\"{metric.capitalize()} is\", len(result))\n",
            "/usr/local/lib/python3.10/dist-packages/sklearn/metrics/_classification.py:1531: UndefinedMetricWarning: Precision is ill-defined and being set to 0.0 in labels with no predicted samples. Use `zero_division` parameter to control this behavior.\n",
            "  _warn_prf(average, modifier, f\"{metric.capitalize()} is\", len(result))\n"
          ]
        },
        {
          "output_type": "stream",
          "name": "stdout",
          "text": [
            "Test Results for Epoch 3:\n",
            "                   precision    recall  f1-score   support\n",
            "\n",
            "          B-ACTOR       0.92      0.94      0.93       652\n",
            "      B-CHARACTER       0.62      0.61      0.62        66\n",
            "       B-DIRECTOR       0.92      0.88      0.90       365\n",
            "          B-GENRE       0.94      0.97      0.96       906\n",
            "           B-PLOT       0.78      0.77      0.77       402\n",
            "         B-RATING       0.94      0.97      0.96       402\n",
            "B-RATINGS_AVERAGE       0.91      0.94      0.92       372\n",
            "         B-REVIEW       0.41      0.24      0.31        45\n",
            "           B-SONG       0.76      0.74      0.75        46\n",
            "          B-TITLE       0.88      0.89      0.89       438\n",
            "        B-TRAILER       0.77      0.87      0.82        23\n",
            "           B-YEAR       0.94      0.96      0.95       575\n",
            "          I-ACTOR       0.91      0.95      0.93       689\n",
            "      I-CHARACTER       0.57      0.47      0.51        64\n",
            "       I-DIRECTOR       0.93      0.87      0.90       392\n",
            "          I-GENRE       0.87      0.72      0.79       193\n",
            "           I-PLOT       0.81      0.68      0.74       404\n",
            "         I-RATING       0.91      0.91      0.91       179\n",
            "I-RATINGS_AVERAGE       0.87      0.92      0.90       344\n",
            "         I-REVIEW       0.57      0.10      0.17        40\n",
            "           I-SONG       0.86      0.77      0.81       101\n",
            "          I-TITLE       0.91      0.90      0.91       681\n",
            "        I-TRAILER       0.00      0.00      0.00         8\n",
            "           I-YEAR       0.96      0.97      0.97       478\n",
            "                O       0.97      0.98      0.97     11965\n",
            "\n",
            "         accuracy                           0.94     19830\n",
            "        macro avg       0.80      0.76      0.77     19830\n",
            "     weighted avg       0.94      0.94      0.94     19830\n",
            "\n",
            "======== Epoch 4 / 4 ========\n",
            "Training...\n",
            "  Training loss: 0.09\n",
            "Evaluating on test set...\n"
          ]
        },
        {
          "output_type": "stream",
          "name": "stderr",
          "text": [
            "/usr/local/lib/python3.10/dist-packages/sklearn/metrics/_classification.py:1531: UndefinedMetricWarning: Precision is ill-defined and being set to 0.0 in labels with no predicted samples. Use `zero_division` parameter to control this behavior.\n",
            "  _warn_prf(average, modifier, f\"{metric.capitalize()} is\", len(result))\n",
            "/usr/local/lib/python3.10/dist-packages/sklearn/metrics/_classification.py:1531: UndefinedMetricWarning: Precision is ill-defined and being set to 0.0 in labels with no predicted samples. Use `zero_division` parameter to control this behavior.\n",
            "  _warn_prf(average, modifier, f\"{metric.capitalize()} is\", len(result))\n",
            "/usr/local/lib/python3.10/dist-packages/sklearn/metrics/_classification.py:1531: UndefinedMetricWarning: Precision is ill-defined and being set to 0.0 in labels with no predicted samples. Use `zero_division` parameter to control this behavior.\n",
            "  _warn_prf(average, modifier, f\"{metric.capitalize()} is\", len(result))\n",
            "/usr/local/lib/python3.10/dist-packages/sklearn/metrics/_classification.py:1531: UndefinedMetricWarning: Precision is ill-defined and being set to 0.0 in labels with no predicted samples. Use `zero_division` parameter to control this behavior.\n",
            "  _warn_prf(average, modifier, f\"{metric.capitalize()} is\", len(result))\n",
            "/usr/local/lib/python3.10/dist-packages/sklearn/metrics/_classification.py:1531: UndefinedMetricWarning: Precision is ill-defined and being set to 0.0 in labels with no predicted samples. Use `zero_division` parameter to control this behavior.\n",
            "  _warn_prf(average, modifier, f\"{metric.capitalize()} is\", len(result))\n",
            "/usr/local/lib/python3.10/dist-packages/sklearn/metrics/_classification.py:1531: UndefinedMetricWarning: Precision is ill-defined and being set to 0.0 in labels with no predicted samples. Use `zero_division` parameter to control this behavior.\n",
            "  _warn_prf(average, modifier, f\"{metric.capitalize()} is\", len(result))\n"
          ]
        },
        {
          "output_type": "stream",
          "name": "stdout",
          "text": [
            "Test Results for Epoch 4:\n",
            "                   precision    recall  f1-score   support\n",
            "\n",
            "          B-ACTOR       0.93      0.94      0.93       652\n",
            "      B-CHARACTER       0.58      0.62      0.60        66\n",
            "       B-DIRECTOR       0.91      0.89      0.90       365\n",
            "          B-GENRE       0.94      0.97      0.95       906\n",
            "           B-PLOT       0.79      0.76      0.77       402\n",
            "         B-RATING       0.96      0.97      0.97       402\n",
            "B-RATINGS_AVERAGE       0.94      0.92      0.93       372\n",
            "         B-REVIEW       0.41      0.29      0.34        45\n",
            "           B-SONG       0.76      0.76      0.76        46\n",
            "          B-TITLE       0.88      0.89      0.89       438\n",
            "        B-TRAILER       0.77      0.87      0.82        23\n",
            "           B-YEAR       0.95      0.96      0.95       575\n",
            "          I-ACTOR       0.92      0.94      0.93       689\n",
            "      I-CHARACTER       0.55      0.42      0.48        64\n",
            "       I-DIRECTOR       0.92      0.88      0.90       392\n",
            "          I-GENRE       0.84      0.73      0.78       193\n",
            "           I-PLOT       0.78      0.70      0.73       404\n",
            "         I-RATING       0.93      0.92      0.92       179\n",
            "I-RATINGS_AVERAGE       0.89      0.91      0.90       344\n",
            "         I-REVIEW       0.55      0.15      0.24        40\n",
            "           I-SONG       0.82      0.78      0.80       101\n",
            "          I-TITLE       0.91      0.91      0.91       681\n",
            "        I-TRAILER       0.00      0.00      0.00         8\n",
            "           I-YEAR       0.97      0.97      0.97       478\n",
            "                O       0.97      0.98      0.97     11965\n",
            "\n",
            "         accuracy                           0.94     19830\n",
            "        macro avg       0.79      0.76      0.77     19830\n",
            "     weighted avg       0.94      0.94      0.94     19830\n",
            "\n"
          ]
        },
        {
          "output_type": "display_data",
          "data": {
            "text/plain": [
              "<Figure size 1000x500 with 1 Axes>"
            ],
            "image/png": "[encoded data removed]"
          },
          "metadata": {}
        },
        {
          "output_type": "stream",
          "name": "stdout",
          "text": [
            "Test results saved to test_results_per_epoch.csv\n"
          ]
        }
      ]
    },
    {
      "cell_type": "code",
      "source": [
        "# Testing the model\n",
        "test_sentence = \"Can you tell me the publication date of Tom Meets Zizou?\"\n",
        "encoded_test = tokenizer.encode_plus(\n",
        "    test_sentence,\n",
        "    add_special_tokens=True,\n",
        "    max_length=59,\n",
        "    truncation=True,\n",
        "    padding='max_length',\n",
        "    return_attention_mask=True,\n",
        "    return_tensors='pt'\n",
        ")\n",
        "\n",
        "input_ids = encoded_test['input_ids'].to(device)\n",
        "attention_mask = encoded_test['attention_mask'].to(device)\n",
        "\n",
        "model.eval()\n",
        "with torch.no_grad():\n",
        "    outputs = model(input_ids, attention_mask=attention_mask)\n",
        "    predictions = torch.argmax(outputs.logits, dim=2).cpu().numpy()\n",
        "\n",
        "# Decode predictions\n",
        "for token, label_id in zip(tokenizer.convert_ids_to_tokens(input_ids[0]), predictions[0]):\n",
        "    if label_id != -100:\n",
        "        print(f\"{token}: {list(label_map.keys())[list(label_map.values()).index(label_id)]}\")"
      ],
      "metadata": {
        "id": "l2WVf0KZqsz5",
        "colab": {
          "base_uri": "https://localhost:8080/"
        },
        "outputId": "7588f715-c183-4c69-8cd5-f82e813f6194"
      },
      "execution_count": 10,
      "outputs": [
        {
          "output_type": "stream",
          "name": "stdout",
          "text": [
            "[CLS]: O\n",
            "Can: O\n",
            "you: O\n",
            "tell: O\n",
            "me: O\n",
            "the: O\n",
            "publication: O\n",
            "date: O\n",
            "of: O\n",
            "Tom: B-TITLE\n",
            "Meet: I-TITLE\n",
            "##s: I-TITLE\n",
            "Z: I-TITLE\n",
            "##iz: I-TITLE\n",
            "##ou: I-TITLE\n",
            "?: I-TITLE\n",
            "[SEP]: O\n",
            "[PAD]: O\n",
            "[PAD]: I-TITLE\n",
            "[PAD]: O\n",
            "[PAD]: O\n",
            "[PAD]: O\n",
            "[PAD]: O\n",
            "[PAD]: O\n",
            "[PAD]: O\n",
            "[PAD]: B-TITLE\n",
            "[PAD]: I-TITLE\n",
            "[PAD]: I-TITLE\n",
            "[PAD]: I-TITLE\n",
            "[PAD]: I-TITLE\n",
            "[PAD]: I-TITLE\n",
            "[PAD]: I-TITLE\n",
            "[PAD]: O\n",
            "[PAD]: O\n",
            "[PAD]: O\n",
            "[PAD]: O\n",
            "[PAD]: O\n",
            "[PAD]: O\n",
            "[PAD]: O\n",
            "[PAD]: O\n",
            "[PAD]: O\n",
            "[PAD]: B-TITLE\n",
            "[PAD]: I-TITLE\n",
            "[PAD]: I-TITLE\n",
            "[PAD]: I-TITLE\n",
            "[PAD]: I-TITLE\n",
            "[PAD]: I-TITLE\n",
            "[PAD]: I-TITLE\n",
            "[PAD]: I-TITLE\n",
            "[PAD]: O\n",
            "[PAD]: O\n",
            "[PAD]: O\n",
            "[PAD]: O\n",
            "[PAD]: O\n",
            "[PAD]: O\n",
            "[PAD]: O\n",
            "[PAD]: O\n",
            "[PAD]: B-TITLE\n",
            "[PAD]: I-TITLE\n"
          ]
        }
      ]
    },
    {
      "cell_type": "code",
      "source": [
        "# # Define a function to evaluate the model on the final test set\n",
        "# def evaluate_model(model, dataloader, label_map):\n",
        "#     model.eval()\n",
        "#     predictions, true_labels = [], []\n",
        "\n",
        "#     with torch.no_grad():\n",
        "#         for batch in dataloader:\n",
        "#             b_input_ids, b_input_mask, b_labels = [item.to(device) for item in batch]\n",
        "#             outputs = model(b_input_ids, attention_mask=b_input_mask)\n",
        "#             logits = outputs.logits\n",
        "#             preds = torch.argmax(logits, dim=2).cpu().numpy()\n",
        "#             labels = b_labels.cpu().numpy()\n",
        "\n",
        "#             for pred, label in zip(preds, labels):\n",
        "#                 predictions.append(pred[label != -100])  # Filter out padding labels\n",
        "#                 true_labels.append(label[label != -100])\n",
        "\n",
        "#     flat_preds = [label for sublist in predictions for label in sublist]\n",
        "#     flat_labels = [label for sublist in true_labels for label in sublist]\n",
        "#     return classification_report(flat_labels, flat_preds)\n",
        "\n",
        "# # Evaluate the model\n",
        "# print(evaluate_model(model, final_test_dataloader, label_map))"
      ],
      "metadata": {
        "id": "OBMQ6L8dutYl"
      },
      "execution_count": 11,
      "outputs": []
    },
    {
      "cell_type": "code",
      "source": [
        "# import os\n",
        "\n",
        "# # Define a directory to save the model\n",
        "# output_dir = \"./fine_tuned_bert_model\"\n",
        "\n",
        "# # Create the directory if it doesn't exist\n",
        "# if not os.path.exists(output_dir):\n",
        "#     os.makedirs(output_dir)\n",
        "\n",
        "# # Save the model\n",
        "# model.save_pretrained(output_dir)\n",
        "\n",
        "# # Save the tokenizer\n",
        "# tokenizer.save_pretrained(output_dir)\n",
        "\n",
        "# print(f\"Model and tokenizer saved to {output_dir}\")\n"
      ],
      "metadata": {
        "id": "-vshEH13wdiT"
      },
      "execution_count": 12,
      "outputs": []
    },
    {
      "cell_type": "code",
      "source": [
        "files.download('fine_tuned_bert_model.zip')"
      ],
      "metadata": {
        "colab": {
          "base_uri": "https://localhost:8080/",
          "height": 34
        },
        "id": "XGkspeN9jVBS",
        "outputId": "b5760536-a802-4a1f-b22c-e686d5d8db02"
      },
      "execution_count": 15,
      "outputs": [
        {
          "output_type": "display_data",
          "data": {
            "text/plain": [
              "<IPython.core.display.Javascript object>"
            ],
            "application/javascript": [
              "\n",
              "    async function download(id, filename, size) {\n",
              "      if (!google.colab.kernel.accessAllowed) {\n",
              "        return;\n",
              "      }\n",
              "      const div = document.createElement('div');\n",
              "      const label = document.createElement('label');\n",
              "      label.textContent = `Downloading \"${filename}\": `;\n",
              "      div.appendChild(label);\n",
              "      const progress = document.createElement('progress');\n",
              "      progress.max = size;\n",
              "      div.appendChild(progress);\n",
              "      document.body.appendChild(div);\n",
              "\n",
              "      const buffers = [];\n",
              "      let downloaded = 0;\n",
              "\n",
              "      const channel = await google.colab.kernel.comms.open(id);\n",
              "      // Send a message to notify the kernel that we're ready.\n",
              "      channel.send({})\n",
              "\n",
              "      for await (const message of channel.messages) {\n",
              "        // Send a message to notify the kernel that we're ready.\n",
              "        channel.send({})\n",
              "        if (message.buffers) {\n",
              "          for (const buffer of message.buffers) {\n",
              "            buffers.push(buffer);\n",
              "            downloaded += buffer.byteLength;\n",
              "            progress.value = downloaded;\n",
              "          }\n",
              "        }\n",
              "      }\n",
              "      const blob = new Blob(buffers, {type: 'application/binary'});\n",
              "      const a = document.createElement('a');\n",
              "      a.href = window.URL.createObjectURL(blob);\n",
              "      a.download = filename;\n",
              "      div.appendChild(a);\n",
              "      a.click();\n",
              "      div.remove();\n",
              "    }\n",
              "  "
            ]
          },
          "metadata": {}
        },
        {
          "output_type": "display_data",
          "data": {
            "text/plain": [
              "<IPython.core.display.Javascript object>"
            ],
            "application/javascript": [
              "download(\"download_547a73e1-e902-4d57-ad71-9a98861c6846\", \"fine_tuned_bert_model.zip\", 167582350)"
            ]
          },
          "metadata": {}
        }
      ]
    },
    {
      "cell_type": "code",
      "source": [
        "from google.colab import drive\n",
        "drive.mount('/content/drive')\n"
      ],
      "metadata": {
        "colab": {
          "base_uri": "https://localhost:8080/"
        },
        "id": "yNCzfWuRj43b",
        "outputId": "6d0d31eb-6183-4e5a-9670-4ce4631f44a1"
      },
      "execution_count": 16,
      "outputs": [
        {
          "output_type": "stream",
          "name": "stdout",
          "text": [
            "Mounted at /content/drive\n"
          ]
        }
      ]
    },
    {
      "cell_type": "code",
      "source": [
        "import shutil\n",
        "\n",
        "# Define the path in Google Drive where you want to save the zip file\n",
        "drive_path = '/content/drive/My Drive/fine_tuned_bert_model'\n",
        "\n",
        "# Zip the model directory and save it to Google Drive\n",
        "shutil.make_archive(drive_path, 'zip', './fine_tuned_bert_model')\n",
        "\n",
        "print(f\"Model saved to {drive_path}.zip\")\n"
      ],
      "metadata": {
        "colab": {
          "base_uri": "https://localhost:8080/"
        },
        "id": "KhD_PFFnj-et",
        "outputId": "ba5e627f-95c6-4543-e4f9-a45c2eaa0287"
      },
      "execution_count": 17,
      "outputs": [
        {
          "output_type": "stream",
          "name": "stdout",
          "text": [
            "Model saved to /content/drive/My Drive/fine_tuned_bert_model.zip\n"
          ]
        }
      ]
    }
  ],
  "metadata": {
    "language_info": {
      "name": "python"
    },
    "colab": {
      "provenance": []
    },
    "kernelspec": {
      "name": "python3",
      "display_name": "Python 3"
    }
  },
  "nbformat": 4,
  "nbformat_minor": 0
}