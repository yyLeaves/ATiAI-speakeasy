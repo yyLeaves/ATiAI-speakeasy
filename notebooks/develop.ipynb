{
 "cells": [
  {
   "cell_type": "markdown",
   "metadata": {},
   "source": [
    "# Deploy"
   ]
  },
  {
   "cell_type": "code",
   "execution_count": 10,
   "metadata": {},
   "outputs": [],
   "source": [
    "import configparser\n",
    "\n",
    "config = configparser.ConfigParser()\n",
    "config.read('../config.ini')\n",
    "\n",
    "username = config['credentials']['username']\n",
    "password = config['credentials']['password']\n",
    "\n",
    "bot_name = config['credentials']['bot_name']\n",
    "bot_pass = config['credentials']['bot_pass']\n",
    "\n",
    "DEFAULT_HOST_URL = 'https://speakeasy.ifi.uzh.ch'"
   ]
  },
  {
   "cell_type": "markdown",
   "metadata": {},
   "source": [
    "## Login"
   ]
  },
  {
   "cell_type": "code",
   "execution_count": 11,
   "metadata": {},
   "outputs": [
    {
     "name": "stdout",
     "output_type": "stream",
     "text": [
      "Login successful. Session token: _TJqsihIRdLLZ2gSSJEDKtTGYFaiFN4d\n"
     ]
    },
    {
     "data": {
      "text/plain": [
       "'_TJqsihIRdLLZ2gSSJEDKtTGYFaiFN4d'"
      ]
     },
     "execution_count": 11,
     "metadata": {},
     "output_type": "execute_result"
    }
   ],
   "source": [
    "from speakeasypy import Speakeasy\n",
    "speakeasy = Speakeasy(host=DEFAULT_HOST_URL, username=username, password=password)\n",
    "speakeasy.login()  \n",
    "# This framework will help you log out automatically when the program terminates."
   ]
  },
  {
   "cell_type": "markdown",
   "metadata": {},
   "source": [
    "## Chatrooms"
   ]
  },
  {
   "cell_type": "code",
   "execution_count": 12,
   "metadata": {},
   "outputs": [],
   "source": [
    "# Only check active chatrooms (i.e., remaining_time > 0) if active=True.\n",
    "rooms = speakeasy.get_rooms(active=True)"
   ]
  },
  {
   "cell_type": "code",
   "execution_count": 13,
   "metadata": {},
   "outputs": [
    {
     "data": {
      "text/plain": [
       "[]"
      ]
     },
     "execution_count": 13,
     "metadata": {},
     "output_type": "execute_result"
    }
   ],
   "source": [
    "rooms"
   ]
  },
  {
   "cell_type": "markdown",
   "metadata": {},
   "source": [
    "# Query"
   ]
  },
  {
   "cell_type": "code",
   "execution_count": 16,
   "metadata": {},
   "outputs": [
    {
     "data": {
      "text/plain": [
       "['Francis Ford Coppola']"
      ]
     },
     "execution_count": 16,
     "metadata": {},
     "output_type": "execute_result"
    }
   ],
   "source": [
    "import rdflib\n",
    "graph = rdflib.Graph()\n",
    "graph.parse('../data/14_graph.nt', format='turtle')\n",
    "\n",
    "query_string = \"\"\"# Who directed the movie Apocalypse Now?  \n",
    "\n",
    "PREFIX ddis: <http://ddis.ch/atai/>   \n",
    "PREFIX wd: <http://www.wikidata.org/entity/>\n",
    "PREFIX wdt: <http://www.wikidata.org/prop/direct/>\n",
    "PREFIX schema: <http://schema.org/>   \n",
    "\n",
    "SELECT ?director WHERE {  \n",
    "    ?movie rdfs:label \"Apocalypse Now\"@en .  \n",
    "        ?movie wdt:P57 ?directorItem . \n",
    "    ?directorItem rdfs:label ?director . \n",
    "}  \n",
    "\n",
    "LIMIT 1  \"\"\"\n",
    "\n",
    "[str(s) for s, in graph.query(query_string)]"
   ]
  },
  {
   "cell_type": "code",
   "execution_count": null,
   "metadata": {},
   "outputs": [],
   "source": []
  },
  {
   "cell_type": "code",
   "execution_count": 15,
   "metadata": {},
   "outputs": [
    {
     "data": {
      "text/plain": [
       "['Forrest Gump']"
      ]
     },
     "execution_count": 15,
     "metadata": {},
     "output_type": "execute_result"
    }
   ],
   "source": [
    "# top user-rated movies\n",
    "[str(s) for s, in graph.query('''\n",
    "    PREFIX ddis: <http://ddis.ch/atai/> \n",
    "PREFIX ddis: <http://ddis.ch/atai/>   \n",
    "PREFIX wd: <http://www.wikidata.org/entity/>   \n",
    "PREFIX wdt: <http://www.wikidata.org/prop/direct/>   \n",
    "PREFIX schema: <http://schema.org/>   \n",
    "\n",
    "SELECT ?lbl WHERE {  \n",
    "    ?movie wdt:P31 wd:Q11424 .  \n",
    "    ?movie ddis:rating ?rating .  \n",
    "    ?movie rdfs:label ?lbl .  \n",
    "}  \n",
    "\n",
    "ORDER BY DESC(?rating)   \n",
    "LIMIT 1 \n",
    "    ''')]"
   ]
  },
  {
   "cell_type": "code",
   "execution_count": null,
   "metadata": {},
   "outputs": [],
   "source": []
  },
  {
   "cell_type": "markdown",
   "metadata": {},
   "source": []
  },
  {
   "cell_type": "markdown",
   "metadata": {},
   "source": [
    "## Agent"
   ]
  },
  {
   "cell_type": "code",
   "execution_count": 14,
   "metadata": {},
   "outputs": [
    {
     "name": "stdout",
     "output_type": "stream",
     "text": [
      "Login successful. Session token: 4Jf5mEfPTN_mQSnyr2diXUQuyDZ_lybJ\n",
      "\t- Chatroom 05910dd3-ad3a-41d1-992a-196979290da1 - new message #1: 'PREFIX ddis: <http://ddis.ch/atai/>   \n",
      "PREFIX wd: <http://www.wikidata.org/entity/>   \n",
      "PREFIX wdt: <http://www.wikidata.org/prop/direct/>   \n",
      "PREFIX schema: <http://schema.org/>   \n",
      "\n",
      "SELECT ?lbl WHERE {  \n",
      "    ?movie wdt:P31 wd:Q11424 .  \n",
      "    ?movie ddis:rating ?rating .  \n",
      "    ?movie rdfs:label ?lbl .  \n",
      "}  \n",
      "\n",
      "ORDER BY DESC(?rating)   \n",
      "LIMIT 1 ' - 13:44:46, 02-10-2024\n"
     ]
    },
    {
     "ename": "KeyboardInterrupt",
     "evalue": "",
     "output_type": "error",
     "traceback": [
      "\u001b[0;31m---------------------------------------------------------------------------\u001b[0m",
      "\u001b[0;31mKeyboardInterrupt\u001b[0m                         Traceback (most recent call last)",
      "Cell \u001b[0;32mIn[14], line 63\u001b[0m\n\u001b[1;32m     61\u001b[0m \u001b[38;5;28;01mif\u001b[39;00m \u001b[38;5;18m__name__\u001b[39m \u001b[38;5;241m==\u001b[39m \u001b[38;5;124m'\u001b[39m\u001b[38;5;124m__main__\u001b[39m\u001b[38;5;124m'\u001b[39m:\n\u001b[1;32m     62\u001b[0m     demo_bot \u001b[38;5;241m=\u001b[39m Agent(bot_name, bot_pass)\n\u001b[0;32m---> 63\u001b[0m     \u001b[43mdemo_bot\u001b[49m\u001b[38;5;241;43m.\u001b[39;49m\u001b[43mlisten\u001b[49m\u001b[43m(\u001b[49m\u001b[43m)\u001b[49m\n",
      "Cell \u001b[0;32mIn[14], line 54\u001b[0m, in \u001b[0;36mAgent.listen\u001b[0;34m(self)\u001b[0m\n\u001b[1;32m     51\u001b[0m         room\u001b[38;5;241m.\u001b[39mpost_messages(\u001b[38;5;124mf\u001b[39m\u001b[38;5;124m\"\u001b[39m\u001b[38;5;124mReceived your reaction: \u001b[39m\u001b[38;5;124m'\u001b[39m\u001b[38;5;132;01m{\u001b[39;00mreaction\u001b[38;5;241m.\u001b[39mtype\u001b[38;5;132;01m}\u001b[39;00m\u001b[38;5;124m'\u001b[39m\u001b[38;5;124m \u001b[39m\u001b[38;5;124m\"\u001b[39m)\n\u001b[1;32m     52\u001b[0m         room\u001b[38;5;241m.\u001b[39mmark_as_processed(reaction)\n\u001b[0;32m---> 54\u001b[0m time\u001b[38;5;241m.\u001b[39msleep(listen_freq)\n",
      "\u001b[0;31mKeyboardInterrupt\u001b[0m: "
     ]
    }
   ],
   "source": [
    "from speakeasypy import Chatroom\n",
    "from typing import List\n",
    "import time\n",
    "\n",
    "DEFAULT_HOST_URL = 'https://speakeasy.ifi.uzh.ch'\n",
    "listen_freq = 2\n",
    "\n",
    "\n",
    "class Agent:\n",
    "    def __init__(self, username, password):\n",
    "        self.username = username\n",
    "        # Initialize the Speakeasy Python framework and login.\n",
    "        self.speakeasy = Speakeasy(host=DEFAULT_HOST_URL, username=username, password=password)\n",
    "        self.speakeasy.login()  # This framework will help you log out automatically when the program terminates.\n",
    "\n",
    "    def listen(self):\n",
    "        while True:\n",
    "            # only check active chatrooms (i.e., remaining_time > 0) if active=True.\n",
    "            rooms: List[Chatroom] = self.speakeasy.get_rooms(active=True)\n",
    "            for room in rooms:\n",
    "                if not room.initiated:\n",
    "                    # send a welcome message if room is not initiated\n",
    "                    room.post_messages(f'Hello! This is a welcome message from {room.my_alias}.')\n",
    "                    room.initiated = True\n",
    "                # Retrieve messages from this chat room.\n",
    "                # If only_partner=True, it filters out messages sent by the current bot.\n",
    "                # If only_new=True, it filters out messages that have already been marked as processed.\n",
    "                for message in room.get_messages(only_partner=True, only_new=True):\n",
    "                    print(\n",
    "                        f\"\\t- Chatroom {room.room_id} \"\n",
    "                        f\"- new message #{message.ordinal}: '{message.message}' \"\n",
    "                        f\"- {self.get_time()}\")\n",
    "\n",
    "                    # Implement your agent here #\n",
    "                    # top user-rated movies\n",
    "\n",
    "                    # Send a message to the corresponding chat room using the post_messages method of the room object.\n",
    "                    room.post_messages(f\"Received your message: '{message.message}' \")\n",
    "                    # Mark the message as processed, so it will be filtered out when retrieving new messages.\n",
    "                    room.mark_as_processed(message)\n",
    "\n",
    "                # Retrieve reactions from this chat room.\n",
    "                # If only_new=True, it filters out reactions that have already been marked as processed.\n",
    "                for reaction in room.get_reactions(only_new=True):\n",
    "                    print(\n",
    "                        f\"\\t- Chatroom {room.room_id} \"\n",
    "                        f\"- new reaction #{reaction.message_ordinal}: '{reaction.type}' \"\n",
    "                        f\"- {self.get_time()}\")\n",
    "\n",
    "                    # Implement your agent here #\n",
    "\n",
    "                    room.post_messages(f\"Received your reaction: '{reaction.type}' \")\n",
    "                    room.mark_as_processed(reaction)\n",
    "\n",
    "            time.sleep(listen_freq)\n",
    "\n",
    "    @staticmethod\n",
    "    def get_time():\n",
    "        return time.strftime(\"%H:%M:%S, %d-%m-%Y\", time.localtime())\n",
    "\n",
    "\n",
    "if __name__ == '__main__':\n",
    "    demo_bot = Agent(bot_name, bot_pass)\n",
    "    demo_bot.listen()\n"
   ]
  },
  {
   "cell_type": "markdown",
   "metadata": {},
   "source": [
    "# Data"
   ]
  },
  {
   "cell_type": "code",
   "execution_count": null,
   "metadata": {},
   "outputs": [],
   "source": []
  }
 ],
 "metadata": {
  "kernelspec": {
   "display_name": "atiai",
   "language": "python",
   "name": "python3"
  },
  "language_info": {
   "codemirror_mode": {
    "name": "ipython",
    "version": 3
   },
   "file_extension": ".py",
   "mimetype": "text/x-python",
   "name": "python",
   "nbconvert_exporter": "python",
   "pygments_lexer": "ipython3",
   "version": "3.11.9"
  }
 },
 "nbformat": 4,
 "nbformat_minor": 2
}
